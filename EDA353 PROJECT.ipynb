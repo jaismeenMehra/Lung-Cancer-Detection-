{
 "cells": [
  {
   "cell_type": "markdown",
   "id": "71922292",
   "metadata": {},
   "source": [
    "## COURSE NAME : EDA PROJECT\n",
    "### Continuous Assessment – 3\n",
    "#### NAME  :- JAISMEEN\n",
    "####  ROLL NO.  :- 40\n",
    "#### REGISTRATION NO.  :-  12015083"
   ]
  },
  {
   "cell_type": "markdown",
   "id": "45380537",
   "metadata": {},
   "source": [
    "# Basic Information About Dataset"
   ]
  },
  {
   "cell_type": "markdown",
   "id": "29e0e495",
   "metadata": {},
   "source": [
    "### About My Dataset\n",
    "\n",
    " The dataset is about how to save lives by controlling the situation at right time.  The data set is for Lung Cancer Risk prediction. There is a record of symptoms in the dataset that will help to analyze which people will be more likely to be diagnosed with lung cancer. It will be helpful to predict lung cancer risk so that it can be cured at right time by analyzing the symptoms, that people are having who are diagnosed with lung cancer. So basically, it will predict the lung cancer risk status.\n",
    " \n",
    "### Why this Dataset?\n",
    " \n",
    " - This project will predict lung cancer risk andhelp people to take the appropriate decision based on their cancer risk status. This will be possible by performing EDA operations on the dataset.\n",
    " - A real-life problem will be solved as the cancer prediction will help people to know their cancer at right time.\n",
    " \n",
    "### About Domain\n",
    " \n",
    " My dataset comes under the medical domain as it has data related to cancer symptoms. Medical Companies can use this dataset to detect the risk of cancer according to the symptoms people will be having. This project will be helpful in solving the problem in the medical domain.\n",
    " \n",
    " ### Questions which can be solved using this Dataset :-\n",
    "\n",
    "- Between what age people are more likely to have lung cancer risk?\n",
    "- Males or Females who is having higher Lung Cancer Risk?\n",
    "- What are the main symptoms on which Lung Cancer Risk can depend?\n",
    "- What factors can increase the chance of Lung Cancer?\n",
    "- Which Lung Cancer symptoms are related to each other and how?\n",
    "- What are the common Symptoms which Lung Cancer patients can have?\n",
    "- Is there any specific kind of diseases which Lung Cancer patients can have?"
   ]
  },
  {
   "cell_type": "code",
   "execution_count": 1,
   "id": "b495b0de",
   "metadata": {},
   "outputs": [],
   "source": [
    "import numpy as np\n",
    "import pandas as pd"
   ]
  },
  {
   "cell_type": "code",
   "execution_count": 2,
   "id": "dcb62976",
   "metadata": {},
   "outputs": [],
   "source": [
    "# importing libraries for visual analysis of Data\n",
    "import seaborn as sns\n",
    "import matplotlib.pyplot as plt"
   ]
  },
  {
   "cell_type": "code",
   "execution_count": 3,
   "id": "6e3bb1b9",
   "metadata": {},
   "outputs": [],
   "source": [
    "Data= pd.read_csv(\"survey lung cancer.csv\") #importing Dataset"
   ]
  },
  {
   "cell_type": "code",
   "execution_count": 4,
   "id": "1bc16d0e",
   "metadata": {},
   "outputs": [
    {
     "data": {
      "text/html": [
       "<div>\n",
       "<style scoped>\n",
       "    .dataframe tbody tr th:only-of-type {\n",
       "        vertical-align: middle;\n",
       "    }\n",
       "\n",
       "    .dataframe tbody tr th {\n",
       "        vertical-align: top;\n",
       "    }\n",
       "\n",
       "    .dataframe thead th {\n",
       "        text-align: right;\n",
       "    }\n",
       "</style>\n",
       "<table border=\"1\" class=\"dataframe\">\n",
       "  <thead>\n",
       "    <tr style=\"text-align: right;\">\n",
       "      <th></th>\n",
       "      <th>GENDER</th>\n",
       "      <th>AGE</th>\n",
       "      <th>SMOKING</th>\n",
       "      <th>YELLOW_FINGERS</th>\n",
       "      <th>ANXIETY</th>\n",
       "      <th>PEER_PRESSURE</th>\n",
       "      <th>CHRONIC DISEASE</th>\n",
       "      <th>FATIGUE</th>\n",
       "      <th>ALLERGY</th>\n",
       "      <th>WHEEZING</th>\n",
       "      <th>ALCOHOL CONSUMING</th>\n",
       "      <th>COUGHING</th>\n",
       "      <th>SHORTNESS OF BREATH</th>\n",
       "      <th>SWALLOWING DIFFICULTY</th>\n",
       "      <th>CHEST PAIN</th>\n",
       "      <th>LUNG_CANCER</th>\n",
       "    </tr>\n",
       "  </thead>\n",
       "  <tbody>\n",
       "    <tr>\n",
       "      <th>0</th>\n",
       "      <td>0</td>\n",
       "      <td>69</td>\n",
       "      <td>1</td>\n",
       "      <td>2</td>\n",
       "      <td>2</td>\n",
       "      <td>1</td>\n",
       "      <td>1</td>\n",
       "      <td>2</td>\n",
       "      <td>1</td>\n",
       "      <td>2</td>\n",
       "      <td>2</td>\n",
       "      <td>2</td>\n",
       "      <td>2</td>\n",
       "      <td>2</td>\n",
       "      <td>2</td>\n",
       "      <td>1</td>\n",
       "    </tr>\n",
       "    <tr>\n",
       "      <th>1</th>\n",
       "      <td>0</td>\n",
       "      <td>74</td>\n",
       "      <td>2</td>\n",
       "      <td>1</td>\n",
       "      <td>1</td>\n",
       "      <td>1</td>\n",
       "      <td>2</td>\n",
       "      <td>2</td>\n",
       "      <td>2</td>\n",
       "      <td>1</td>\n",
       "      <td>1</td>\n",
       "      <td>1</td>\n",
       "      <td>2</td>\n",
       "      <td>2</td>\n",
       "      <td>2</td>\n",
       "      <td>1</td>\n",
       "    </tr>\n",
       "    <tr>\n",
       "      <th>2</th>\n",
       "      <td>1</td>\n",
       "      <td>59</td>\n",
       "      <td>1</td>\n",
       "      <td>1</td>\n",
       "      <td>1</td>\n",
       "      <td>2</td>\n",
       "      <td>1</td>\n",
       "      <td>2</td>\n",
       "      <td>1</td>\n",
       "      <td>2</td>\n",
       "      <td>1</td>\n",
       "      <td>2</td>\n",
       "      <td>2</td>\n",
       "      <td>1</td>\n",
       "      <td>2</td>\n",
       "      <td>2</td>\n",
       "    </tr>\n",
       "    <tr>\n",
       "      <th>3</th>\n",
       "      <td>0</td>\n",
       "      <td>63</td>\n",
       "      <td>2</td>\n",
       "      <td>2</td>\n",
       "      <td>2</td>\n",
       "      <td>1</td>\n",
       "      <td>1</td>\n",
       "      <td>1</td>\n",
       "      <td>1</td>\n",
       "      <td>1</td>\n",
       "      <td>2</td>\n",
       "      <td>1</td>\n",
       "      <td>1</td>\n",
       "      <td>2</td>\n",
       "      <td>2</td>\n",
       "      <td>2</td>\n",
       "    </tr>\n",
       "    <tr>\n",
       "      <th>4</th>\n",
       "      <td>1</td>\n",
       "      <td>63</td>\n",
       "      <td>1</td>\n",
       "      <td>2</td>\n",
       "      <td>1</td>\n",
       "      <td>1</td>\n",
       "      <td>1</td>\n",
       "      <td>1</td>\n",
       "      <td>1</td>\n",
       "      <td>2</td>\n",
       "      <td>1</td>\n",
       "      <td>2</td>\n",
       "      <td>2</td>\n",
       "      <td>1</td>\n",
       "      <td>1</td>\n",
       "      <td>2</td>\n",
       "    </tr>\n",
       "  </tbody>\n",
       "</table>\n",
       "</div>"
      ],
      "text/plain": [
       "   GENDER  AGE  SMOKING  YELLOW_FINGERS  ANXIETY  PEER_PRESSURE  \\\n",
       "0       0   69        1               2        2              1   \n",
       "1       0   74        2               1        1              1   \n",
       "2       1   59        1               1        1              2   \n",
       "3       0   63        2               2        2              1   \n",
       "4       1   63        1               2        1              1   \n",
       "\n",
       "   CHRONIC DISEASE  FATIGUE   ALLERGY   WHEEZING  ALCOHOL CONSUMING  COUGHING  \\\n",
       "0                1         2         1         2                  2         2   \n",
       "1                2         2         2         1                  1         1   \n",
       "2                1         2         1         2                  1         2   \n",
       "3                1         1         1         1                  2         1   \n",
       "4                1         1         1         2                  1         2   \n",
       "\n",
       "   SHORTNESS OF BREATH  SWALLOWING DIFFICULTY  CHEST PAIN  LUNG_CANCER  \n",
       "0                    2                      2           2            1  \n",
       "1                    2                      2           2            1  \n",
       "2                    2                      1           2            2  \n",
       "3                    1                      2           2            2  \n",
       "4                    2                      1           1            2  "
      ]
     },
     "execution_count": 4,
     "metadata": {},
     "output_type": "execute_result"
    }
   ],
   "source": [
    "# printing first 5 rows in order to understand Data\n",
    "Data.head()"
   ]
  },
  {
   "cell_type": "code",
   "execution_count": 5,
   "id": "1b64e8c3",
   "metadata": {},
   "outputs": [
    {
     "data": {
      "text/html": [
       "<div>\n",
       "<style scoped>\n",
       "    .dataframe tbody tr th:only-of-type {\n",
       "        vertical-align: middle;\n",
       "    }\n",
       "\n",
       "    .dataframe tbody tr th {\n",
       "        vertical-align: top;\n",
       "    }\n",
       "\n",
       "    .dataframe thead th {\n",
       "        text-align: right;\n",
       "    }\n",
       "</style>\n",
       "<table border=\"1\" class=\"dataframe\">\n",
       "  <thead>\n",
       "    <tr style=\"text-align: right;\">\n",
       "      <th></th>\n",
       "      <th>GENDER</th>\n",
       "      <th>AGE</th>\n",
       "      <th>SMOKING</th>\n",
       "      <th>YELLOW_FINGERS</th>\n",
       "      <th>ANXIETY</th>\n",
       "      <th>PEER_PRESSURE</th>\n",
       "      <th>CHRONIC DISEASE</th>\n",
       "      <th>FATIGUE</th>\n",
       "      <th>ALLERGY</th>\n",
       "      <th>WHEEZING</th>\n",
       "      <th>ALCOHOL CONSUMING</th>\n",
       "      <th>COUGHING</th>\n",
       "      <th>SHORTNESS OF BREATH</th>\n",
       "      <th>SWALLOWING DIFFICULTY</th>\n",
       "      <th>CHEST PAIN</th>\n",
       "      <th>LUNG_CANCER</th>\n",
       "    </tr>\n",
       "  </thead>\n",
       "  <tbody>\n",
       "    <tr>\n",
       "      <th>55389</th>\n",
       "      <td>1</td>\n",
       "      <td>18</td>\n",
       "      <td>1</td>\n",
       "      <td>1</td>\n",
       "      <td>1</td>\n",
       "      <td>2</td>\n",
       "      <td>1</td>\n",
       "      <td>2</td>\n",
       "      <td>1</td>\n",
       "      <td>1</td>\n",
       "      <td>2</td>\n",
       "      <td>2</td>\n",
       "      <td>1</td>\n",
       "      <td>2</td>\n",
       "      <td>1</td>\n",
       "      <td>1</td>\n",
       "    </tr>\n",
       "    <tr>\n",
       "      <th>55390</th>\n",
       "      <td>0</td>\n",
       "      <td>60</td>\n",
       "      <td>1</td>\n",
       "      <td>1</td>\n",
       "      <td>2</td>\n",
       "      <td>1</td>\n",
       "      <td>1</td>\n",
       "      <td>1</td>\n",
       "      <td>2</td>\n",
       "      <td>2</td>\n",
       "      <td>2</td>\n",
       "      <td>2</td>\n",
       "      <td>1</td>\n",
       "      <td>2</td>\n",
       "      <td>1</td>\n",
       "      <td>2</td>\n",
       "    </tr>\n",
       "    <tr>\n",
       "      <th>55391</th>\n",
       "      <td>1</td>\n",
       "      <td>38</td>\n",
       "      <td>2</td>\n",
       "      <td>1</td>\n",
       "      <td>2</td>\n",
       "      <td>1</td>\n",
       "      <td>1</td>\n",
       "      <td>1</td>\n",
       "      <td>2</td>\n",
       "      <td>2</td>\n",
       "      <td>1</td>\n",
       "      <td>1</td>\n",
       "      <td>2</td>\n",
       "      <td>1</td>\n",
       "      <td>2</td>\n",
       "      <td>1</td>\n",
       "    </tr>\n",
       "    <tr>\n",
       "      <th>55392</th>\n",
       "      <td>0</td>\n",
       "      <td>26</td>\n",
       "      <td>2</td>\n",
       "      <td>2</td>\n",
       "      <td>1</td>\n",
       "      <td>1</td>\n",
       "      <td>1</td>\n",
       "      <td>1</td>\n",
       "      <td>2</td>\n",
       "      <td>1</td>\n",
       "      <td>2</td>\n",
       "      <td>1</td>\n",
       "      <td>1</td>\n",
       "      <td>1</td>\n",
       "      <td>1</td>\n",
       "      <td>2</td>\n",
       "    </tr>\n",
       "    <tr>\n",
       "      <th>55393</th>\n",
       "      <td>0</td>\n",
       "      <td>61</td>\n",
       "      <td>2</td>\n",
       "      <td>2</td>\n",
       "      <td>2</td>\n",
       "      <td>2</td>\n",
       "      <td>2</td>\n",
       "      <td>2</td>\n",
       "      <td>1</td>\n",
       "      <td>1</td>\n",
       "      <td>2</td>\n",
       "      <td>1</td>\n",
       "      <td>2</td>\n",
       "      <td>1</td>\n",
       "      <td>1</td>\n",
       "      <td>2</td>\n",
       "    </tr>\n",
       "  </tbody>\n",
       "</table>\n",
       "</div>"
      ],
      "text/plain": [
       "       GENDER  AGE  SMOKING  YELLOW_FINGERS  ANXIETY  PEER_PRESSURE  \\\n",
       "55389       1   18        1               1        1              2   \n",
       "55390       0   60        1               1        2              1   \n",
       "55391       1   38        2               1        2              1   \n",
       "55392       0   26        2               2        1              1   \n",
       "55393       0   61        2               2        2              2   \n",
       "\n",
       "       CHRONIC DISEASE  FATIGUE   ALLERGY   WHEEZING  ALCOHOL CONSUMING  \\\n",
       "55389                1         2         1         1                  2   \n",
       "55390                1         1         2         2                  2   \n",
       "55391                1         1         2         2                  1   \n",
       "55392                1         1         2         1                  2   \n",
       "55393                2         2         1         1                  2   \n",
       "\n",
       "       COUGHING  SHORTNESS OF BREATH  SWALLOWING DIFFICULTY  CHEST PAIN  \\\n",
       "55389         2                    1                      2           1   \n",
       "55390         2                    1                      2           1   \n",
       "55391         1                    2                      1           2   \n",
       "55392         1                    1                      1           1   \n",
       "55393         1                    2                      1           1   \n",
       "\n",
       "       LUNG_CANCER  \n",
       "55389            1  \n",
       "55390            2  \n",
       "55391            1  \n",
       "55392            2  \n",
       "55393            2  "
      ]
     },
     "execution_count": 5,
     "metadata": {},
     "output_type": "execute_result"
    }
   ],
   "source": [
    "Data.tail()"
   ]
  },
  {
   "cell_type": "code",
   "execution_count": 6,
   "id": "44ef91cb",
   "metadata": {},
   "outputs": [
    {
     "data": {
      "text/plain": [
       "(55394, 16)"
      ]
     },
     "execution_count": 6,
     "metadata": {},
     "output_type": "execute_result"
    }
   ],
   "source": [
    "Data.shape"
   ]
  },
  {
   "cell_type": "code",
   "execution_count": 7,
   "id": "291b1af5",
   "metadata": {},
   "outputs": [
    {
     "data": {
      "text/plain": [
       "Index(['GENDER', 'AGE', 'SMOKING', 'YELLOW_FINGERS', 'ANXIETY',\n",
       "       'PEER_PRESSURE', 'CHRONIC DISEASE', 'FATIGUE ', 'ALLERGY ', 'WHEEZING',\n",
       "       'ALCOHOL CONSUMING', 'COUGHING', 'SHORTNESS OF BREATH',\n",
       "       'SWALLOWING DIFFICULTY', 'CHEST PAIN', 'LUNG_CANCER'],\n",
       "      dtype='object')"
      ]
     },
     "execution_count": 7,
     "metadata": {},
     "output_type": "execute_result"
    }
   ],
   "source": [
    "Data.columns"
   ]
  },
  {
   "cell_type": "code",
   "execution_count": 8,
   "id": "729bf720",
   "metadata": {},
   "outputs": [
    {
     "data": {
      "text/plain": [
       "GENDER                    2\n",
       "AGE                      67\n",
       "SMOKING                   2\n",
       "YELLOW_FINGERS            2\n",
       "ANXIETY                   2\n",
       "PEER_PRESSURE             2\n",
       "CHRONIC DISEASE           2\n",
       "FATIGUE                   2\n",
       "ALLERGY                   2\n",
       "WHEEZING                  2\n",
       "ALCOHOL CONSUMING         2\n",
       "COUGHING                  2\n",
       "SHORTNESS OF BREATH       2\n",
       "SWALLOWING DIFFICULTY     2\n",
       "CHEST PAIN                2\n",
       "LUNG_CANCER               2\n",
       "dtype: int64"
      ]
     },
     "execution_count": 8,
     "metadata": {},
     "output_type": "execute_result"
    }
   ],
   "source": [
    "Data.nunique()"
   ]
  },
  {
   "cell_type": "code",
   "execution_count": 9,
   "id": "b3c7c452",
   "metadata": {},
   "outputs": [],
   "source": [
    "# cheking unique values in a particular column\n",
    "DataAge= Data['AGE'].unique()\n",
    "DataGender=Data['GENDER'].unique()"
   ]
  },
  {
   "cell_type": "code",
   "execution_count": 10,
   "id": "50e5b03d",
   "metadata": {},
   "outputs": [
    {
     "data": {
      "text/plain": [
       "array([0, 1], dtype=int64)"
      ]
     },
     "execution_count": 10,
     "metadata": {},
     "output_type": "execute_result"
    }
   ],
   "source": [
    "DataAge\n",
    "DataGender"
   ]
  },
  {
   "cell_type": "code",
   "execution_count": 11,
   "id": "f50bf340",
   "metadata": {},
   "outputs": [
    {
     "name": "stdout",
     "output_type": "stream",
     "text": [
      "<class 'pandas.core.frame.DataFrame'>\n",
      "RangeIndex: 55394 entries, 0 to 55393\n",
      "Data columns (total 16 columns):\n",
      " #   Column                 Non-Null Count  Dtype\n",
      "---  ------                 --------------  -----\n",
      " 0   GENDER                 55394 non-null  int64\n",
      " 1   AGE                    55394 non-null  int64\n",
      " 2   SMOKING                55394 non-null  int64\n",
      " 3   YELLOW_FINGERS         55394 non-null  int64\n",
      " 4   ANXIETY                55394 non-null  int64\n",
      " 5   PEER_PRESSURE          55394 non-null  int64\n",
      " 6   CHRONIC DISEASE        55394 non-null  int64\n",
      " 7   FATIGUE                55394 non-null  int64\n",
      " 8   ALLERGY                55394 non-null  int64\n",
      " 9   WHEEZING               55394 non-null  int64\n",
      " 10  ALCOHOL CONSUMING      55394 non-null  int64\n",
      " 11  COUGHING               55394 non-null  int64\n",
      " 12  SHORTNESS OF BREATH    55394 non-null  int64\n",
      " 13  SWALLOWING DIFFICULTY  55394 non-null  int64\n",
      " 14  CHEST PAIN             55394 non-null  int64\n",
      " 15  LUNG_CANCER            55394 non-null  int64\n",
      "dtypes: int64(16)\n",
      "memory usage: 6.8 MB\n"
     ]
    }
   ],
   "source": [
    "Data.info()"
   ]
  },
  {
   "cell_type": "markdown",
   "id": "8e5f046d",
   "metadata": {},
   "source": [
    "# Data CLEANING"
   ]
  },
  {
   "cell_type": "markdown",
   "id": "f2e4351a",
   "metadata": {},
   "source": [
    "### checking for null values\n",
    "When there are null values either we need to replace them or we need to remove them in order to get accurate insights from data. Replacement method of values depend on that what values represents more about Dataset. Its not always that we need to replace these null values, sometimes it is better not to replace them because replacing them with improper values which may affect the accuracy of prediction. "
   ]
  },
  {
   "cell_type": "code",
   "execution_count": 12,
   "id": "8a968396",
   "metadata": {
    "scrolled": true
   },
   "outputs": [
    {
     "data": {
      "text/html": [
       "<div>\n",
       "<style scoped>\n",
       "    .dataframe tbody tr th:only-of-type {\n",
       "        vertical-align: middle;\n",
       "    }\n",
       "\n",
       "    .dataframe tbody tr th {\n",
       "        vertical-align: top;\n",
       "    }\n",
       "\n",
       "    .dataframe thead th {\n",
       "        text-align: right;\n",
       "    }\n",
       "</style>\n",
       "<table border=\"1\" class=\"dataframe\">\n",
       "  <thead>\n",
       "    <tr style=\"text-align: right;\">\n",
       "      <th></th>\n",
       "      <th>GENDER</th>\n",
       "      <th>AGE</th>\n",
       "      <th>SMOKING</th>\n",
       "      <th>YELLOW_FINGERS</th>\n",
       "      <th>ANXIETY</th>\n",
       "      <th>PEER_PRESSURE</th>\n",
       "      <th>CHRONIC DISEASE</th>\n",
       "      <th>FATIGUE</th>\n",
       "      <th>ALLERGY</th>\n",
       "      <th>WHEEZING</th>\n",
       "      <th>ALCOHOL CONSUMING</th>\n",
       "      <th>COUGHING</th>\n",
       "      <th>SHORTNESS OF BREATH</th>\n",
       "      <th>SWALLOWING DIFFICULTY</th>\n",
       "      <th>CHEST PAIN</th>\n",
       "      <th>LUNG_CANCER</th>\n",
       "    </tr>\n",
       "  </thead>\n",
       "  <tbody>\n",
       "    <tr>\n",
       "      <th>0</th>\n",
       "      <td>False</td>\n",
       "      <td>False</td>\n",
       "      <td>False</td>\n",
       "      <td>False</td>\n",
       "      <td>False</td>\n",
       "      <td>False</td>\n",
       "      <td>False</td>\n",
       "      <td>False</td>\n",
       "      <td>False</td>\n",
       "      <td>False</td>\n",
       "      <td>False</td>\n",
       "      <td>False</td>\n",
       "      <td>False</td>\n",
       "      <td>False</td>\n",
       "      <td>False</td>\n",
       "      <td>False</td>\n",
       "    </tr>\n",
       "    <tr>\n",
       "      <th>1</th>\n",
       "      <td>False</td>\n",
       "      <td>False</td>\n",
       "      <td>False</td>\n",
       "      <td>False</td>\n",
       "      <td>False</td>\n",
       "      <td>False</td>\n",
       "      <td>False</td>\n",
       "      <td>False</td>\n",
       "      <td>False</td>\n",
       "      <td>False</td>\n",
       "      <td>False</td>\n",
       "      <td>False</td>\n",
       "      <td>False</td>\n",
       "      <td>False</td>\n",
       "      <td>False</td>\n",
       "      <td>False</td>\n",
       "    </tr>\n",
       "    <tr>\n",
       "      <th>2</th>\n",
       "      <td>False</td>\n",
       "      <td>False</td>\n",
       "      <td>False</td>\n",
       "      <td>False</td>\n",
       "      <td>False</td>\n",
       "      <td>False</td>\n",
       "      <td>False</td>\n",
       "      <td>False</td>\n",
       "      <td>False</td>\n",
       "      <td>False</td>\n",
       "      <td>False</td>\n",
       "      <td>False</td>\n",
       "      <td>False</td>\n",
       "      <td>False</td>\n",
       "      <td>False</td>\n",
       "      <td>False</td>\n",
       "    </tr>\n",
       "    <tr>\n",
       "      <th>3</th>\n",
       "      <td>False</td>\n",
       "      <td>False</td>\n",
       "      <td>False</td>\n",
       "      <td>False</td>\n",
       "      <td>False</td>\n",
       "      <td>False</td>\n",
       "      <td>False</td>\n",
       "      <td>False</td>\n",
       "      <td>False</td>\n",
       "      <td>False</td>\n",
       "      <td>False</td>\n",
       "      <td>False</td>\n",
       "      <td>False</td>\n",
       "      <td>False</td>\n",
       "      <td>False</td>\n",
       "      <td>False</td>\n",
       "    </tr>\n",
       "    <tr>\n",
       "      <th>4</th>\n",
       "      <td>False</td>\n",
       "      <td>False</td>\n",
       "      <td>False</td>\n",
       "      <td>False</td>\n",
       "      <td>False</td>\n",
       "      <td>False</td>\n",
       "      <td>False</td>\n",
       "      <td>False</td>\n",
       "      <td>False</td>\n",
       "      <td>False</td>\n",
       "      <td>False</td>\n",
       "      <td>False</td>\n",
       "      <td>False</td>\n",
       "      <td>False</td>\n",
       "      <td>False</td>\n",
       "      <td>False</td>\n",
       "    </tr>\n",
       "    <tr>\n",
       "      <th>...</th>\n",
       "      <td>...</td>\n",
       "      <td>...</td>\n",
       "      <td>...</td>\n",
       "      <td>...</td>\n",
       "      <td>...</td>\n",
       "      <td>...</td>\n",
       "      <td>...</td>\n",
       "      <td>...</td>\n",
       "      <td>...</td>\n",
       "      <td>...</td>\n",
       "      <td>...</td>\n",
       "      <td>...</td>\n",
       "      <td>...</td>\n",
       "      <td>...</td>\n",
       "      <td>...</td>\n",
       "      <td>...</td>\n",
       "    </tr>\n",
       "    <tr>\n",
       "      <th>55389</th>\n",
       "      <td>False</td>\n",
       "      <td>False</td>\n",
       "      <td>False</td>\n",
       "      <td>False</td>\n",
       "      <td>False</td>\n",
       "      <td>False</td>\n",
       "      <td>False</td>\n",
       "      <td>False</td>\n",
       "      <td>False</td>\n",
       "      <td>False</td>\n",
       "      <td>False</td>\n",
       "      <td>False</td>\n",
       "      <td>False</td>\n",
       "      <td>False</td>\n",
       "      <td>False</td>\n",
       "      <td>False</td>\n",
       "    </tr>\n",
       "    <tr>\n",
       "      <th>55390</th>\n",
       "      <td>False</td>\n",
       "      <td>False</td>\n",
       "      <td>False</td>\n",
       "      <td>False</td>\n",
       "      <td>False</td>\n",
       "      <td>False</td>\n",
       "      <td>False</td>\n",
       "      <td>False</td>\n",
       "      <td>False</td>\n",
       "      <td>False</td>\n",
       "      <td>False</td>\n",
       "      <td>False</td>\n",
       "      <td>False</td>\n",
       "      <td>False</td>\n",
       "      <td>False</td>\n",
       "      <td>False</td>\n",
       "    </tr>\n",
       "    <tr>\n",
       "      <th>55391</th>\n",
       "      <td>False</td>\n",
       "      <td>False</td>\n",
       "      <td>False</td>\n",
       "      <td>False</td>\n",
       "      <td>False</td>\n",
       "      <td>False</td>\n",
       "      <td>False</td>\n",
       "      <td>False</td>\n",
       "      <td>False</td>\n",
       "      <td>False</td>\n",
       "      <td>False</td>\n",
       "      <td>False</td>\n",
       "      <td>False</td>\n",
       "      <td>False</td>\n",
       "      <td>False</td>\n",
       "      <td>False</td>\n",
       "    </tr>\n",
       "    <tr>\n",
       "      <th>55392</th>\n",
       "      <td>False</td>\n",
       "      <td>False</td>\n",
       "      <td>False</td>\n",
       "      <td>False</td>\n",
       "      <td>False</td>\n",
       "      <td>False</td>\n",
       "      <td>False</td>\n",
       "      <td>False</td>\n",
       "      <td>False</td>\n",
       "      <td>False</td>\n",
       "      <td>False</td>\n",
       "      <td>False</td>\n",
       "      <td>False</td>\n",
       "      <td>False</td>\n",
       "      <td>False</td>\n",
       "      <td>False</td>\n",
       "    </tr>\n",
       "    <tr>\n",
       "      <th>55393</th>\n",
       "      <td>False</td>\n",
       "      <td>False</td>\n",
       "      <td>False</td>\n",
       "      <td>False</td>\n",
       "      <td>False</td>\n",
       "      <td>False</td>\n",
       "      <td>False</td>\n",
       "      <td>False</td>\n",
       "      <td>False</td>\n",
       "      <td>False</td>\n",
       "      <td>False</td>\n",
       "      <td>False</td>\n",
       "      <td>False</td>\n",
       "      <td>False</td>\n",
       "      <td>False</td>\n",
       "      <td>False</td>\n",
       "    </tr>\n",
       "  </tbody>\n",
       "</table>\n",
       "<p>55394 rows × 16 columns</p>\n",
       "</div>"
      ],
      "text/plain": [
       "       GENDER    AGE  SMOKING  YELLOW_FINGERS  ANXIETY  PEER_PRESSURE  \\\n",
       "0       False  False    False           False    False          False   \n",
       "1       False  False    False           False    False          False   \n",
       "2       False  False    False           False    False          False   \n",
       "3       False  False    False           False    False          False   \n",
       "4       False  False    False           False    False          False   \n",
       "...       ...    ...      ...             ...      ...            ...   \n",
       "55389   False  False    False           False    False          False   \n",
       "55390   False  False    False           False    False          False   \n",
       "55391   False  False    False           False    False          False   \n",
       "55392   False  False    False           False    False          False   \n",
       "55393   False  False    False           False    False          False   \n",
       "\n",
       "       CHRONIC DISEASE  FATIGUE   ALLERGY   WHEEZING  ALCOHOL CONSUMING  \\\n",
       "0                False     False     False     False              False   \n",
       "1                False     False     False     False              False   \n",
       "2                False     False     False     False              False   \n",
       "3                False     False     False     False              False   \n",
       "4                False     False     False     False              False   \n",
       "...                ...       ...       ...       ...                ...   \n",
       "55389            False     False     False     False              False   \n",
       "55390            False     False     False     False              False   \n",
       "55391            False     False     False     False              False   \n",
       "55392            False     False     False     False              False   \n",
       "55393            False     False     False     False              False   \n",
       "\n",
       "       COUGHING  SHORTNESS OF BREATH  SWALLOWING DIFFICULTY  CHEST PAIN  \\\n",
       "0         False                False                  False       False   \n",
       "1         False                False                  False       False   \n",
       "2         False                False                  False       False   \n",
       "3         False                False                  False       False   \n",
       "4         False                False                  False       False   \n",
       "...         ...                  ...                    ...         ...   \n",
       "55389     False                False                  False       False   \n",
       "55390     False                False                  False       False   \n",
       "55391     False                False                  False       False   \n",
       "55392     False                False                  False       False   \n",
       "55393     False                False                  False       False   \n",
       "\n",
       "       LUNG_CANCER  \n",
       "0            False  \n",
       "1            False  \n",
       "2            False  \n",
       "3            False  \n",
       "4            False  \n",
       "...            ...  \n",
       "55389        False  \n",
       "55390        False  \n",
       "55391        False  \n",
       "55392        False  \n",
       "55393        False  \n",
       "\n",
       "[55394 rows x 16 columns]"
      ]
     },
     "execution_count": 12,
     "metadata": {},
     "output_type": "execute_result"
    }
   ],
   "source": [
    "Data.isnull()"
   ]
  },
  {
   "cell_type": "code",
   "execution_count": 13,
   "id": "f13d73d6",
   "metadata": {
    "scrolled": true
   },
   "outputs": [
    {
     "data": {
      "text/plain": [
       "GENDER                   0\n",
       "AGE                      0\n",
       "SMOKING                  0\n",
       "YELLOW_FINGERS           0\n",
       "ANXIETY                  0\n",
       "PEER_PRESSURE            0\n",
       "CHRONIC DISEASE          0\n",
       "FATIGUE                  0\n",
       "ALLERGY                  0\n",
       "WHEEZING                 0\n",
       "ALCOHOL CONSUMING        0\n",
       "COUGHING                 0\n",
       "SHORTNESS OF BREATH      0\n",
       "SWALLOWING DIFFICULTY    0\n",
       "CHEST PAIN               0\n",
       "LUNG_CANCER              0\n",
       "dtype: int64"
      ]
     },
     "execution_count": 13,
     "metadata": {},
     "output_type": "execute_result"
    }
   ],
   "source": [
    "Data.isnull().sum()"
   ]
  },
  {
   "cell_type": "markdown",
   "id": "44d096c9",
   "metadata": {},
   "source": [
    "This shows that there are not any null values in the Dataset. So, no need to remove or replace values in the Dataset."
   ]
  },
  {
   "cell_type": "markdown",
   "id": "d2875a49",
   "metadata": {},
   "source": [
    "### Checking for duplicate values"
   ]
  },
  {
   "cell_type": "code",
   "execution_count": 14,
   "id": "080c29ac",
   "metadata": {
    "scrolled": true
   },
   "outputs": [
    {
     "data": {
      "text/plain": [
       "0        False\n",
       "1        False\n",
       "2        False\n",
       "3        False\n",
       "4        False\n",
       "         ...  \n",
       "55389    False\n",
       "55390    False\n",
       "55391    False\n",
       "55392    False\n",
       "55393    False\n",
       "Length: 55394, dtype: bool"
      ]
     },
     "execution_count": 14,
     "metadata": {},
     "output_type": "execute_result"
    }
   ],
   "source": [
    "Data.duplicated()"
   ]
  },
  {
   "cell_type": "code",
   "execution_count": 15,
   "id": "cf0fb39d",
   "metadata": {},
   "outputs": [
    {
     "data": {
      "text/plain": [
       "892"
      ]
     },
     "execution_count": 15,
     "metadata": {},
     "output_type": "execute_result"
    }
   ],
   "source": [
    "Data.duplicated().sum()"
   ]
  },
  {
   "cell_type": "markdown",
   "id": "c7c80d5f",
   "metadata": {},
   "source": [
    "This shows that there 892 duplicate values in the Dataset. So, we need to drop them."
   ]
  },
  {
   "cell_type": "code",
   "execution_count": 16,
   "id": "c9bf9110",
   "metadata": {},
   "outputs": [
    {
     "data": {
      "text/plain": [
       "0"
      ]
     },
     "execution_count": 16,
     "metadata": {},
     "output_type": "execute_result"
    }
   ],
   "source": [
    "Data=Data.drop_duplicates()\n",
    "Data.duplicated().sum()"
   ]
  },
  {
   "cell_type": "markdown",
   "id": "7aad6208",
   "metadata": {},
   "source": [
    "This shows that  now there are no duplicate values. "
   ]
  },
  {
   "cell_type": "code",
   "execution_count": 17,
   "id": "4ced9826",
   "metadata": {},
   "outputs": [
    {
     "data": {
      "text/plain": [
       "(54502, 16)"
      ]
     },
     "execution_count": 17,
     "metadata": {},
     "output_type": "execute_result"
    }
   ],
   "source": [
    "Data.shape"
   ]
  },
  {
   "cell_type": "markdown",
   "id": "b3d5433c",
   "metadata": {},
   "source": [
    "### Handling Outliers\n",
    "There are two ways to handle outliers :\n",
    "- Imputing Outliers \n",
    "- Deleting Outliers\n",
    "\n",
    "Lets first find out whether there are any outliers or not."
   ]
  },
  {
   "cell_type": "code",
   "execution_count": 18,
   "id": "a5207061",
   "metadata": {},
   "outputs": [
    {
     "data": {
      "text/plain": [
       "count    54502.000000\n",
       "mean        44.122821\n",
       "std         15.318459\n",
       "min         18.000000\n",
       "25%         31.000000\n",
       "50%         44.000000\n",
       "75%         57.000000\n",
       "max         95.000000\n",
       "Name: AGE, dtype: float64"
      ]
     },
     "execution_count": 18,
     "metadata": {},
     "output_type": "execute_result"
    }
   ],
   "source": [
    "Data.AGE.describe()"
   ]
  },
  {
   "cell_type": "markdown",
   "id": "3705c23a",
   "metadata": {},
   "source": [
    "Looking at these numerical values it doesn't seem that there are outliers as mean and median values are almost similar other values also not seems to be  too different.  Also Max value is not very large than 75%.\n",
    "For confirmation wheteher there are really not outliers for AGE variable we need to visualize it."
   ]
  },
  {
   "cell_type": "markdown",
   "id": "52c80ab5",
   "metadata": {},
   "source": [
    "*Visualising outliers for AGE variable*"
   ]
  },
  {
   "cell_type": "code",
   "execution_count": 19,
   "id": "4e97d1a0",
   "metadata": {},
   "outputs": [
    {
     "name": "stderr",
     "output_type": "stream",
     "text": [
      "C:\\Users\\hp\\anaconda3\\lib\\site-packages\\seaborn\\_decorators.py:36: FutureWarning: Pass the following variable as a keyword arg: x. From version 0.12, the only valid positional argument will be `data`, and passing other arguments without an explicit keyword will result in an error or misinterpretation.\n",
      "  warnings.warn(\n"
     ]
    },
    {
     "data": {
      "image/png": "[encoded data removed]",
      "text/plain": [
       "<Figure size 432x288 with 1 Axes>"
      ]
     },
     "metadata": {
      "needs_background": "light"
     },
     "output_type": "display_data"
    }
   ],
   "source": [
    "sns.boxplot(Data.AGE)\n",
    "plt.show()"
   ]
  },
  {
   "cell_type": "markdown",
   "id": "0cb2941f",
   "metadata": {},
   "source": [
    "- This shows there are no outliers in the AGE variable as the age is ranging between 30 years to 60 years.\n",
    " \n",
    "- Rest of the variables are of cancer symptoms which shows that a person is having that particular sympton or not which are in YES or NO . So, no need to check for those variables that they are having outlers or not."
   ]
  },
  {
   "cell_type": "markdown",
   "id": "3754bf0c",
   "metadata": {},
   "source": [
    "### Standardising values\n",
    "It is necessary that all observations under one variable are expressed in a common unit and on the same scale. So for analysis these values need to be brought to a common scale. But in this Dataset the age variable is already under common unit that is YEARS."
   ]
  },
  {
   "cell_type": "markdown",
   "id": "b2892722",
   "metadata": {},
   "source": [
    "# Univariate Analysis"
   ]
  },
  {
   "cell_type": "markdown",
   "id": "943a67c5",
   "metadata": {},
   "source": [
    "There are different type of univariate analysis which can be perform:\n",
    "- Categorical Unordered Univariate Analysis\n",
    "- Categorical Ordered Univariate Analysis"
   ]
  },
  {
   "cell_type": "markdown",
   "id": "f77b2ca7",
   "metadata": {},
   "source": [
    "### Analysing AGE variable"
   ]
  },
  {
   "cell_type": "code",
   "execution_count": 20,
   "id": "f008f292",
   "metadata": {},
   "outputs": [
    {
     "data": {
      "text/plain": [
       "66    0.020146\n",
       "58    0.019889\n",
       "38    0.019742\n",
       "45    0.019632\n",
       "54    0.019577\n",
       "        ...   \n",
       "87    0.000018\n",
       "79    0.000018\n",
       "95    0.000018\n",
       "90    0.000018\n",
       "80    0.000018\n",
       "Name: AGE, Length: 67, dtype: float64"
      ]
     },
     "execution_count": 20,
     "metadata": {},
     "output_type": "execute_result"
    }
   ],
   "source": [
    "Data.AGE.value_counts(normalize = True)"
   ]
  },
  {
   "cell_type": "code",
   "execution_count": 21,
   "id": "03d3fad0",
   "metadata": {},
   "outputs": [
    {
     "name": "stderr",
     "output_type": "stream",
     "text": [
      "C:\\Users\\hp\\anaconda3\\lib\\site-packages\\seaborn\\distributions.py:2619: FutureWarning: `distplot` is a deprecated function and will be removed in a future version. Please adapt your code to use either `displot` (a figure-level function with similar flexibility) or `histplot` (an axes-level function for histograms).\n",
      "  warnings.warn(msg, FutureWarning)\n"
     ]
    },
    {
     "data": {
      "image/png": "[encoded data removed]",
      "text/plain": [
       "<Figure size 432x288 with 1 Axes>"
      ]
     },
     "metadata": {
      "needs_background": "light"
     },
     "output_type": "display_data"
    }
   ],
   "source": [
    "age= Data['AGE']\n",
    "sns.distplot(age)\n",
    "plt.show()"
   ]
  },
  {
   "cell_type": "markdown",
   "id": "ef5a1cef",
   "metadata": {},
   "source": [
    "As this distplot is not giving us proper insights. So we could use histogram."
   ]
  },
  {
   "cell_type": "code",
   "execution_count": 22,
   "id": "38e0f609",
   "metadata": {},
   "outputs": [
    {
     "data": {
      "image/png": "[encoded data removed]",
      "text/plain": [
       "<Figure size 432x288 with 1 Axes>"
      ]
     },
     "metadata": {
      "needs_background": "light"
     },
     "output_type": "display_data"
    }
   ],
   "source": [
    "Data.AGE.plot.hist()\n",
    "plt.show()"
   ]
  },
  {
   "cell_type": "markdown",
   "id": "5aa1271b",
   "metadata": {},
   "source": [
    "\n",
    "This is showing us that the age frequency is between 20 to 70 years. And we could see that there is very less frequency of people between age 70 years to 80 years."
   ]
  },
  {
   "cell_type": "markdown",
   "id": "35bcc295",
   "metadata": {},
   "source": [
    "### Analysing Cancer Symptoms"
   ]
  },
  {
   "cell_type": "markdown",
   "id": "14c75347",
   "metadata": {},
   "source": [
    "NOTE:\n",
    "   - 1 = No\n",
    "   - 2 = Yes\n",
    "   - 0 = Male\n",
    "   - 1 = Female"
   ]
  },
  {
   "cell_type": "code",
   "execution_count": 23,
   "id": "a9a43a8a",
   "metadata": {},
   "outputs": [
    {
     "data": {
      "text/plain": [
       "1    0.500477\n",
       "2    0.499523\n",
       "Name: SMOKING, dtype: float64"
      ]
     },
     "execution_count": 23,
     "metadata": {},
     "output_type": "execute_result"
    }
   ],
   "source": [
    "Data.SMOKING.value_counts()\n",
    "Data.SMOKING.value_counts(normalize= True)"
   ]
  },
  {
   "cell_type": "code",
   "execution_count": 24,
   "id": "b988be04",
   "metadata": {
    "scrolled": true
   },
   "outputs": [
    {
     "data": {
      "image/png": "[encoded data removed]",
      "text/plain": [
       "<Figure size 432x288 with 1 Axes>"
      ]
     },
     "metadata": {
      "needs_background": "light"
     },
     "output_type": "display_data"
    }
   ],
   "source": [
    "Data.SMOKING.value_counts(normalize= True).plot.bar()\n",
    "plt.show()"
   ]
  },
  {
   "cell_type": "markdown",
   "id": "7b70dea6",
   "metadata": {},
   "source": [
    "So from above we can conclude that people who smoke and don't smoke are almost in similar percentage so from only this variable we can't take conclusion on our target variable Which is LUNG_CANCER."
   ]
  },
  {
   "cell_type": "code",
   "execution_count": 27,
   "id": "8fbb362f",
   "metadata": {},
   "outputs": [
    {
     "data": {
      "image/png": "[encoded data removed]",
      "text/plain": [
       "<Figure size 432x288 with 1 Axes>"
      ]
     },
     "metadata": {
      "needs_background": "light"
     },
     "output_type": "display_data"
    }
   ],
   "source": [
    "Data.GENDER.value_counts(normalize=True).plot.bar()\n",
    "plt.show()"
   ]
  },
  {
   "cell_type": "code",
   "execution_count": 25,
   "id": "545fd925",
   "metadata": {},
   "outputs": [
    {
     "data": {
      "text/plain": [
       "1    0.501449\n",
       "0    0.498551\n",
       "Name: GENDER, dtype: float64"
      ]
     },
     "execution_count": 25,
     "metadata": {},
     "output_type": "execute_result"
    }
   ],
   "source": [
    "Data.GENDER.value_counts(normalize=True)"
   ]
  },
  {
   "cell_type": "markdown",
   "id": "3847f3e7",
   "metadata": {},
   "source": [
    "This shows that males are more likely to have lung cancer."
   ]
  },
  {
   "cell_type": "code",
   "execution_count": 26,
   "id": "9956e319",
   "metadata": {
    "scrolled": true
   },
   "outputs": [
    {
     "data": {
      "image/png": "[encoded data removed]",
      "text/plain": [
       "<Figure size 432x288 with 1 Axes>"
      ]
     },
     "metadata": {
      "needs_background": "light"
     },
     "output_type": "display_data"
    }
   ],
   "source": [
    "Data.PEER_PRESSURE.value_counts().plot.bar()\n",
    "Data.SMOKING.value_counts(normalize= True).plot.bar()\n",
    "plt.show()"
   ]
  },
  {
   "cell_type": "markdown",
   "id": "ed7a0b86",
   "metadata": {},
   "source": [
    "As we can see that individually we are not getting proper insights fom the symptoms so we need to see that how the variables are related which each other and how they are affecting our target variable that is lung cancer. To do that we need to perform Bivariate Analysis."
   ]
  },
  {
   "cell_type": "markdown",
   "id": "5993e6cc",
   "metadata": {},
   "source": [
    "### Analysing our target variable and finding which symtoms are more related with Lung Cancer"
   ]
  },
  {
   "cell_type": "code",
   "execution_count": 27,
   "id": "6d20940f",
   "metadata": {},
   "outputs": [
    {
     "data": {
      "text/plain": [
       "1    27438\n",
       "2    27064\n",
       "Name: LUNG_CANCER, dtype: int64"
      ]
     },
     "execution_count": 27,
     "metadata": {},
     "output_type": "execute_result"
    }
   ],
   "source": [
    "Data.LUNG_CANCER.value_counts()"
   ]
  },
  {
   "cell_type": "markdown",
   "id": "2f2ea2c3",
   "metadata": {},
   "source": [
    "This shows that how many people are +ve with cancer and how many are -ve."
   ]
  },
  {
   "cell_type": "code",
   "execution_count": 28,
   "id": "2e265882",
   "metadata": {},
   "outputs": [
    {
     "data": {
      "text/plain": [
       "1    0.503431\n",
       "2    0.496569\n",
       "Name: LUNG_CANCER, dtype: float64"
      ]
     },
     "execution_count": 28,
     "metadata": {},
     "output_type": "execute_result"
    }
   ],
   "source": [
    "Data.LUNG_CANCER.value_counts(normalize= True)"
   ]
  },
  {
   "cell_type": "markdown",
   "id": "a8d40c33",
   "metadata": {},
   "source": [
    "Lung Cancer Rate"
   ]
  },
  {
   "cell_type": "markdown",
   "id": "cd23b7a7",
   "metadata": {},
   "source": [
    "# Bivariate Analysis"
   ]
  },
  {
   "cell_type": "markdown",
   "id": "eb79996c",
   "metadata": {},
   "source": [
    "Now we need to analyse that how the target variable is related to symptoms. It means those who are +ve with cancer what symptoms they are more likely to have."
   ]
  },
  {
   "cell_type": "markdown",
   "id": "c8cfaca7",
   "metadata": {},
   "source": [
    "### Age vs Lung Cancer Rate"
   ]
  },
  {
   "cell_type": "code",
   "execution_count": 29,
   "id": "d729cca6",
   "metadata": {},
   "outputs": [
    {
     "data": {
      "text/plain": [
       "LUNG_CANCER\n",
       "1    44.174940\n",
       "2    44.069982\n",
       "Name: AGE, dtype: float64"
      ]
     },
     "execution_count": 29,
     "metadata": {},
     "output_type": "execute_result"
    }
   ],
   "source": [
    "Data.groupby(\"LUNG_CANCER\")['AGE'].mean()"
   ]
  },
  {
   "cell_type": "code",
   "execution_count": 30,
   "id": "3258fed9",
   "metadata": {},
   "outputs": [
    {
     "data": {
      "text/plain": [
       "LUNG_CANCER\n",
       "1    44.0\n",
       "2    44.0\n",
       "Name: AGE, dtype: float64"
      ]
     },
     "execution_count": 30,
     "metadata": {},
     "output_type": "execute_result"
    }
   ],
   "source": [
    "Data.groupby(\"LUNG_CANCER\")['AGE'].median()"
   ]
  },
  {
   "cell_type": "markdown",
   "id": "a8132381",
   "metadata": {},
   "source": [
    "This shows that mean age of people who don't have cancer and who have cancer is almost similar."
   ]
  },
  {
   "cell_type": "code",
   "execution_count": 31,
   "id": "085d0fd5",
   "metadata": {},
   "outputs": [
    {
     "name": "stderr",
     "output_type": "stream",
     "text": [
      "C:\\Users\\hp\\anaconda3\\lib\\site-packages\\seaborn\\_decorators.py:36: FutureWarning: Pass the following variables as keyword args: x, y. From version 0.12, the only valid positional argument will be `data`, and passing other arguments without an explicit keyword will result in an error or misinterpretation.\n",
      "  warnings.warn(\n"
     ]
    },
    {
     "data": {
      "text/plain": [
       "<AxesSubplot:xlabel='LUNG_CANCER', ylabel='AGE'>"
      ]
     },
     "execution_count": 31,
     "metadata": {},
     "output_type": "execute_result"
    },
    {
     "data": {
      "image/png": "[encoded data removed]",
      "text/plain": [
       "<Figure size 432x288 with 1 Axes>"
      ]
     },
     "metadata": {
      "needs_background": "light"
     },
     "output_type": "display_data"
    }
   ],
   "source": [
    "sns.boxplot(Data['LUNG_CANCER'], Data['AGE'])"
   ]
  },
  {
   "cell_type": "markdown",
   "id": "97e2b44c",
   "metadata": {},
   "source": [
    "From above we can conclude that people between age 30 to 60 are more likely to have lung cancer."
   ]
  },
  {
   "cell_type": "markdown",
   "id": "59ab3205",
   "metadata": {},
   "source": [
    "### Smoking vs Lung Cancer Rate"
   ]
  },
  {
   "cell_type": "code",
   "execution_count": 32,
   "id": "75e52766",
   "metadata": {},
   "outputs": [
    {
     "data": {
      "text/plain": [
       "LUNG_CANCER\n",
       "1    1.500692\n",
       "2    1.498337\n",
       "Name: SMOKING, dtype: float64"
      ]
     },
     "execution_count": 32,
     "metadata": {},
     "output_type": "execute_result"
    }
   ],
   "source": [
    "Data.groupby(['LUNG_CANCER'])['SMOKING'].mean()"
   ]
  },
  {
   "cell_type": "code",
   "execution_count": 33,
   "id": "af4994e5",
   "metadata": {},
   "outputs": [
    {
     "name": "stderr",
     "output_type": "stream",
     "text": [
      "C:\\Users\\hp\\anaconda3\\lib\\site-packages\\seaborn\\_decorators.py:36: FutureWarning: Pass the following variables as keyword args: x, y. From version 0.12, the only valid positional argument will be `data`, and passing other arguments without an explicit keyword will result in an error or misinterpretation.\n",
      "  warnings.warn(\n"
     ]
    },
    {
     "data": {
      "text/plain": [
       "<AxesSubplot:xlabel='SMOKING', ylabel='AGE'>"
      ]
     },
     "execution_count": 33,
     "metadata": {},
     "output_type": "execute_result"
    },
    {
     "data": {
      "image/png": "[encoded data removed]",
      "text/plain": [
       "<Figure size 432x288 with 1 Axes>"
      ]
     },
     "metadata": {
      "needs_background": "light"
     },
     "output_type": "display_data"
    }
   ],
   "source": [
    "sns.boxplot(Data['SMOKING'], Data['AGE'])"
   ]
  },
  {
   "cell_type": "code",
   "execution_count": 34,
   "id": "77f89d08",
   "metadata": {},
   "outputs": [
    {
     "data": {
      "text/plain": [
       "<AxesSubplot:xlabel='SMOKING', ylabel='LUNG_CANCER'>"
      ]
     },
     "execution_count": 34,
     "metadata": {},
     "output_type": "execute_result"
    },
    {
     "data": {
      "image/png": "[encoded data removed]",
      "text/plain": [
       "<Figure size 432x288 with 2 Axes>"
      ]
     },
     "metadata": {
      "needs_background": "light"
     },
     "output_type": "display_data"
    }
   ],
   "source": [
    " sns.heatmap(pd.crosstab(Data['LUNG_CANCER'],Data['SMOKING']),cmap=\"YlGnBu\")"
   ]
  },
  {
   "cell_type": "code",
   "execution_count": 35,
   "id": "a0b8e9f7",
   "metadata": {},
   "outputs": [
    {
     "data": {
      "text/plain": [
       "LUNG_CANCER\n",
       "1    1.498579\n",
       "2    1.503880\n",
       "Name: CHRONIC DISEASE, dtype: float64"
      ]
     },
     "execution_count": 35,
     "metadata": {},
     "output_type": "execute_result"
    }
   ],
   "source": [
    "Data.groupby(\"LUNG_CANCER\")['CHRONIC DISEASE'].mean()"
   ]
  },
  {
   "cell_type": "code",
   "execution_count": 36,
   "id": "0019af4b",
   "metadata": {},
   "outputs": [
    {
     "data": {
      "text/plain": [
       "<AxesSubplot:xlabel='CHRONIC DISEASE', ylabel='LUNG_CANCER'>"
      ]
     },
     "execution_count": 36,
     "metadata": {},
     "output_type": "execute_result"
    },
    {
     "data": {
      "image/png": "[encoded data removed]",
      "text/plain": [
       "<Figure size 432x288 with 2 Axes>"
      ]
     },
     "metadata": {
      "needs_background": "light"
     },
     "output_type": "display_data"
    }
   ],
   "source": [
    " sns.heatmap(pd.crosstab(Data['LUNG_CANCER'],Data['CHRONIC DISEASE']), cmap=\"Blues\")"
   ]
  },
  {
   "cell_type": "markdown",
   "id": "852bba3c",
   "metadata": {},
   "source": [
    "People with chronic disease are more likely to have lung cancer."
   ]
  },
  {
   "cell_type": "code",
   "execution_count": 37,
   "id": "6b56043a",
   "metadata": {},
   "outputs": [
    {
     "data": {
      "text/plain": [
       "SMOKING\n",
       "1    1.506654\n",
       "2    1.495758\n",
       "Name: CHRONIC DISEASE, dtype: float64"
      ]
     },
     "execution_count": 37,
     "metadata": {},
     "output_type": "execute_result"
    }
   ],
   "source": [
    "Data.groupby(\"SMOKING\")['CHRONIC DISEASE'].mean()"
   ]
  },
  {
   "cell_type": "code",
   "execution_count": 38,
   "id": "1d0573bc",
   "metadata": {},
   "outputs": [
    {
     "data": {
      "text/plain": [
       "<AxesSubplot:xlabel='CHRONIC DISEASE', ylabel='SMOKING'>"
      ]
     },
     "execution_count": 38,
     "metadata": {},
     "output_type": "execute_result"
    },
    {
     "data": {
      "image/png": "[encoded data removed]",
      "text/plain": [
       "<Figure size 432x288 with 2 Axes>"
      ]
     },
     "metadata": {
      "needs_background": "light"
     },
     "output_type": "display_data"
    }
   ],
   "source": [
    " sns.heatmap(pd.crosstab(Data['SMOKING'],Data['CHRONIC DISEASE']),cmap=\"Greens\")"
   ]
  },
  {
   "cell_type": "markdown",
   "id": "ce1ee4a2",
   "metadata": {},
   "source": [
    "People who smoke are more likely to have Chronic disease so eventually they will be having lung cancer risk as we have seen above that people with chronic disease are more likely to have lung cancer."
   ]
  },
  {
   "cell_type": "code",
   "execution_count": 39,
   "id": "b5edc68c",
   "metadata": {},
   "outputs": [
    {
     "data": {
      "text/plain": [
       "GENDER\n",
       "0    1.503128\n",
       "1    1.499305\n",
       "Name: CHRONIC DISEASE, dtype: float64"
      ]
     },
     "execution_count": 39,
     "metadata": {},
     "output_type": "execute_result"
    }
   ],
   "source": [
    "Data.groupby(\"GENDER\")['CHRONIC DISEASE'].mean()"
   ]
  },
  {
   "cell_type": "code",
   "execution_count": 40,
   "id": "bd4c0137",
   "metadata": {},
   "outputs": [
    {
     "data": {
      "text/plain": [
       "<AxesSubplot:xlabel='CHRONIC DISEASE', ylabel='GENDER'>"
      ]
     },
     "execution_count": 40,
     "metadata": {},
     "output_type": "execute_result"
    },
    {
     "data": {
      "image/png": "[encoded data removed]",
      "text/plain": [
       "<Figure size 432x288 with 2 Axes>"
      ]
     },
     "metadata": {
      "needs_background": "light"
     },
     "output_type": "display_data"
    }
   ],
   "source": [
    " sns.heatmap(pd.crosstab(Data['GENDER'],Data['CHRONIC DISEASE']),cmap=\"BuPu\")"
   ]
  },
  {
   "cell_type": "markdown",
   "id": "516ea819",
   "metadata": {},
   "source": [
    "Males are more likely to have chronic disease so there is more lung cancer risk to males."
   ]
  },
  {
   "cell_type": "code",
   "execution_count": 41,
   "id": "0211f588",
   "metadata": {},
   "outputs": [
    {
     "data": {
      "text/plain": [
       "CHEST PAIN\n",
       "1    1.501804\n",
       "2    1.500622\n",
       "Name: CHRONIC DISEASE, dtype: float64"
      ]
     },
     "execution_count": 41,
     "metadata": {},
     "output_type": "execute_result"
    }
   ],
   "source": [
    "Data.groupby(\"CHEST PAIN\")['CHRONIC DISEASE'].mean()"
   ]
  },
  {
   "cell_type": "code",
   "execution_count": 42,
   "id": "5c880333",
   "metadata": {},
   "outputs": [
    {
     "data": {
      "text/plain": [
       "<AxesSubplot:xlabel='CHRONIC DISEASE', ylabel='CHEST PAIN'>"
      ]
     },
     "execution_count": 42,
     "metadata": {},
     "output_type": "execute_result"
    },
    {
     "data": {
      "image/png": "[encoded data removed]",
      "text/plain": [
       "<Figure size 432x288 with 2 Axes>"
      ]
     },
     "metadata": {
      "needs_background": "light"
     },
     "output_type": "display_data"
    }
   ],
   "source": [
    " sns.heatmap(pd.crosstab(Data['CHEST PAIN'],Data['CHRONIC DISEASE']),cmap=\"Greens\")"
   ]
  },
  {
   "cell_type": "code",
   "execution_count": 29,
   "id": "9361b08c",
   "metadata": {},
   "outputs": [
    {
     "data": {
      "text/plain": [
       "<seaborn.matrix.ClusterGrid at 0x1af6cb622e0>"
      ]
     },
     "execution_count": 29,
     "metadata": {},
     "output_type": "execute_result"
    },
    {
     "data": {
      "image/png": "[encoded data removed]",
      "text/plain": [
       "<Figure size 720x720 with 4 Axes>"
      ]
     },
     "metadata": {
      "needs_background": "light"
     },
     "output_type": "display_data"
    }
   ],
   "source": [
    " sns.clustermap(pd.crosstab(Data['CHEST PAIN'],Data['CHRONIC DISEASE']),cmap=\"Greens\")"
   ]
  },
  {
   "cell_type": "markdown",
   "id": "b554c45d",
   "metadata": {},
   "source": [
    "People who are having chest pain are more likely to have chronic disease."
   ]
  },
  {
   "cell_type": "markdown",
   "id": "f540b0a9",
   "metadata": {},
   "source": [
    "In order to get more insights that our target is more influenced by which symptoms we could go for Multivariate Analysis. It will hep to get more accurate results."
   ]
  },
  {
   "cell_type": "markdown",
   "id": "6b77a04d",
   "metadata": {},
   "source": [
    "# Statistical Analysis of all numerical column\n"
   ]
  },
  {
   "cell_type": "markdown",
   "id": "03b61157",
   "metadata": {},
   "source": [
    "There is only one numerical column in the Dataset that is AGE column . Rest of the columns have categorical values that  means whether a particular symptoms is there or not. So that is why we need to perform Statistcal Analysis only on Age variable.\n",
    "\n",
    "- *This statistical analysis is kind of univariate analysis only.*\n"
   ]
  },
  {
   "cell_type": "code",
   "execution_count": 44,
   "id": "4547a908",
   "metadata": {},
   "outputs": [
    {
     "data": {
      "text/plain": [
       "count    54502.000000\n",
       "mean        44.122821\n",
       "std         15.318459\n",
       "min         18.000000\n",
       "25%         31.000000\n",
       "50%         44.000000\n",
       "75%         57.000000\n",
       "max         95.000000\n",
       "Name: AGE, dtype: float64"
      ]
     },
     "execution_count": 44,
     "metadata": {},
     "output_type": "execute_result"
    }
   ],
   "source": [
    "Data.AGE.describe()"
   ]
  },
  {
   "cell_type": "markdown",
   "id": "a2668a4a",
   "metadata": {},
   "source": [
    "- Mean = 44.122821 and Median = 44\n",
    "- This shows that mean and median values are almost similar other values also not seems to be  too different. So, we could use either Mean or Median.\n",
    "- Mean and median are single values that broadly give a representation of the entire Data.\n",
    "Here mean is giving an average of all the values and the median  is giving a typical value that can be used to represent the entire group of Age.\n",
    "- First Quantile(Q1) = 31(value at 25th percentile)\n",
    "- Third Quantile(Q3) = 57(value at 75th percentile)\n",
    "\n",
    "###### These statistical values can be used to replace null values in order to make accurate predictions. As there are no null values in the AGE column so no need to use these values."
   ]
  },
  {
   "cell_type": "markdown",
   "id": "d6fc08d6",
   "metadata": {},
   "source": [
    "# MULTIVARIATE ANALYSIS"
   ]
  },
  {
   "cell_type": "code",
   "execution_count": 45,
   "id": "6735f95b",
   "metadata": {},
   "outputs": [
    {
     "data": {
      "text/html": [
       "<div>\n",
       "<style scoped>\n",
       "    .dataframe tbody tr th:only-of-type {\n",
       "        vertical-align: middle;\n",
       "    }\n",
       "\n",
       "    .dataframe tbody tr th {\n",
       "        vertical-align: top;\n",
       "    }\n",
       "\n",
       "    .dataframe thead th {\n",
       "        text-align: right;\n",
       "    }\n",
       "</style>\n",
       "<table border=\"1\" class=\"dataframe\">\n",
       "  <thead>\n",
       "    <tr style=\"text-align: right;\">\n",
       "      <th>SMOKING</th>\n",
       "      <th>1</th>\n",
       "      <th>2</th>\n",
       "    </tr>\n",
       "    <tr>\n",
       "      <th>GENDER</th>\n",
       "      <th></th>\n",
       "      <th></th>\n",
       "    </tr>\n",
       "  </thead>\n",
       "  <tbody>\n",
       "    <tr>\n",
       "      <th>0</th>\n",
       "      <td>1.497495</td>\n",
       "      <td>1.488162</td>\n",
       "    </tr>\n",
       "    <tr>\n",
       "      <th>1</th>\n",
       "      <td>1.497993</td>\n",
       "      <td>1.502606</td>\n",
       "    </tr>\n",
       "  </tbody>\n",
       "</table>\n",
       "</div>"
      ],
      "text/plain": [
       "SMOKING         1         2\n",
       "GENDER                     \n",
       "0        1.497495  1.488162\n",
       "1        1.497993  1.502606"
      ]
     },
     "execution_count": 45,
     "metadata": {},
     "output_type": "execute_result"
    }
   ],
   "source": [
    "result1=pd.pivot_table(data=Data, index=\"GENDER\",columns=\"SMOKING\",values=\"LUNG_CANCER\")\n",
    "result1"
   ]
  },
  {
   "cell_type": "markdown",
   "id": "478de8e8",
   "metadata": {},
   "source": [
    "This shows that people who are male and smoke are more likely to have Lung Cancer.\n",
    " Let's visualise it using Heatmap in order to get better insights."
   ]
  },
  {
   "cell_type": "code",
   "execution_count": 46,
   "id": "209629c3",
   "metadata": {},
   "outputs": [
    {
     "data": {
      "text/plain": [
       "<AxesSubplot:xlabel='SMOKING', ylabel='GENDER'>"
      ]
     },
     "execution_count": 46,
     "metadata": {},
     "output_type": "execute_result"
    },
    {
     "data": {
      "image/png": "[encoded data removed]",
      "text/plain": [
       "<Figure size 432x288 with 2 Axes>"
      ]
     },
     "metadata": {
      "needs_background": "light"
     },
     "output_type": "display_data"
    }
   ],
   "source": [
    "sns.heatmap(result1, annot=True, cmap=\"RdYlGn\")"
   ]
  },
  {
   "cell_type": "markdown",
   "id": "e74b5e33",
   "metadata": {},
   "source": [
    "we can conclude that:\n",
    "   - Females who smoke are having less chances of lung cancer than males who smoke.\n",
    "   - Males who smoke are having highest chances of lung cancer.\n",
    "    \n"
   ]
  },
  {
   "cell_type": "code",
   "execution_count": 47,
   "id": "5c68394a",
   "metadata": {},
   "outputs": [
    {
     "data": {
      "text/html": [
       "<div>\n",
       "<style scoped>\n",
       "    .dataframe tbody tr th:only-of-type {\n",
       "        vertical-align: middle;\n",
       "    }\n",
       "\n",
       "    .dataframe tbody tr th {\n",
       "        vertical-align: top;\n",
       "    }\n",
       "\n",
       "    .dataframe thead th {\n",
       "        text-align: right;\n",
       "    }\n",
       "</style>\n",
       "<table border=\"1\" class=\"dataframe\">\n",
       "  <thead>\n",
       "    <tr style=\"text-align: right;\">\n",
       "      <th>SMOKING</th>\n",
       "      <th>1</th>\n",
       "      <th>2</th>\n",
       "    </tr>\n",
       "    <tr>\n",
       "      <th>ALCOHOL CONSUMING</th>\n",
       "      <th></th>\n",
       "      <th></th>\n",
       "    </tr>\n",
       "  </thead>\n",
       "  <tbody>\n",
       "    <tr>\n",
       "      <th>1</th>\n",
       "      <td>1.500440</td>\n",
       "      <td>1.494228</td>\n",
       "    </tr>\n",
       "    <tr>\n",
       "      <th>2</th>\n",
       "      <td>1.495049</td>\n",
       "      <td>1.496565</td>\n",
       "    </tr>\n",
       "  </tbody>\n",
       "</table>\n",
       "</div>"
      ],
      "text/plain": [
       "SMOKING                   1         2\n",
       "ALCOHOL CONSUMING                    \n",
       "1                  1.500440  1.494228\n",
       "2                  1.495049  1.496565"
      ]
     },
     "execution_count": 47,
     "metadata": {},
     "output_type": "execute_result"
    }
   ],
   "source": [
    "result2=pd.pivot_table(data=Data, index=\"ALCOHOL CONSUMING\",columns=\"SMOKING\",values=\"LUNG_CANCER\")\n",
    "result2"
   ]
  },
  {
   "cell_type": "code",
   "execution_count": 48,
   "id": "e5338227",
   "metadata": {},
   "outputs": [
    {
     "data": {
      "text/plain": [
       "<AxesSubplot:xlabel='SMOKING', ylabel='ALCOHOL CONSUMING'>"
      ]
     },
     "execution_count": 48,
     "metadata": {},
     "output_type": "execute_result"
    },
    {
     "data": {
      "image/png": "[encoded data removed]",
      "text/plain": [
       "<Figure size 432x288 with 2 Axes>"
      ]
     },
     "metadata": {
      "needs_background": "light"
     },
     "output_type": "display_data"
    }
   ],
   "source": [
    "sns.heatmap(result2, annot=True, cmap=\"RdYlGn\")"
   ]
  },
  {
   "cell_type": "markdown",
   "id": "c2e246a1",
   "metadata": {},
   "source": [
    "This shows that Lung Cancer rate for those who smoke is more than who consume alccohol.\n",
    "So we can conclude that Smoking have more impact on Lung Cancer."
   ]
  },
  {
   "cell_type": "code",
   "execution_count": 49,
   "id": "866d6fdc",
   "metadata": {},
   "outputs": [
    {
     "data": {
      "text/html": [
       "<div>\n",
       "<style scoped>\n",
       "    .dataframe tbody tr th:only-of-type {\n",
       "        vertical-align: middle;\n",
       "    }\n",
       "\n",
       "    .dataframe tbody tr th {\n",
       "        vertical-align: top;\n",
       "    }\n",
       "\n",
       "    .dataframe thead th {\n",
       "        text-align: right;\n",
       "    }\n",
       "</style>\n",
       "<table border=\"1\" class=\"dataframe\">\n",
       "  <thead>\n",
       "    <tr style=\"text-align: right;\">\n",
       "      <th>WHEEZING</th>\n",
       "      <th>1</th>\n",
       "      <th>2</th>\n",
       "    </tr>\n",
       "    <tr>\n",
       "      <th>ALCOHOL CONSUMING</th>\n",
       "      <th></th>\n",
       "      <th></th>\n",
       "    </tr>\n",
       "  </thead>\n",
       "  <tbody>\n",
       "    <tr>\n",
       "      <th>1</th>\n",
       "      <td>1.499964</td>\n",
       "      <td>1.494677</td>\n",
       "    </tr>\n",
       "    <tr>\n",
       "      <th>2</th>\n",
       "      <td>1.492505</td>\n",
       "      <td>1.499051</td>\n",
       "    </tr>\n",
       "  </tbody>\n",
       "</table>\n",
       "</div>"
      ],
      "text/plain": [
       "WHEEZING                  1         2\n",
       "ALCOHOL CONSUMING                    \n",
       "1                  1.499964  1.494677\n",
       "2                  1.492505  1.499051"
      ]
     },
     "execution_count": 49,
     "metadata": {},
     "output_type": "execute_result"
    }
   ],
   "source": [
    "result3=pd.pivot_table(data=Data, index=\"ALCOHOL CONSUMING\",columns=\"WHEEZING\",values=\"LUNG_CANCER\")\n",
    "result3"
   ]
  },
  {
   "cell_type": "code",
   "execution_count": 50,
   "id": "4b721758",
   "metadata": {},
   "outputs": [
    {
     "data": {
      "text/plain": [
       "<AxesSubplot:xlabel='WHEEZING', ylabel='ALCOHOL CONSUMING'>"
      ]
     },
     "execution_count": 50,
     "metadata": {},
     "output_type": "execute_result"
    },
    {
     "data": {
      "image/png": "[encoded data removed]",
      "text/plain": [
       "<Figure size 432x288 with 2 Axes>"
      ]
     },
     "metadata": {
      "needs_background": "light"
     },
     "output_type": "display_data"
    }
   ],
   "source": [
    "sns.heatmap(result3,  cmap=\"Blues\")"
   ]
  },
  {
   "cell_type": "markdown",
   "id": "3965c2f2",
   "metadata": {},
   "source": [
    "People who weeze while breathing have higher Lung Cancer rate than who consume alcohol."
   ]
  },
  {
   "cell_type": "code",
   "execution_count": 51,
   "id": "7f6cfe81",
   "metadata": {},
   "outputs": [
    {
     "data": {
      "text/html": [
       "<div>\n",
       "<style scoped>\n",
       "    .dataframe tbody tr th:only-of-type {\n",
       "        vertical-align: middle;\n",
       "    }\n",
       "\n",
       "    .dataframe tbody tr th {\n",
       "        vertical-align: top;\n",
       "    }\n",
       "\n",
       "    .dataframe thead th {\n",
       "        text-align: right;\n",
       "    }\n",
       "</style>\n",
       "<table border=\"1\" class=\"dataframe\">\n",
       "  <thead>\n",
       "    <tr style=\"text-align: right;\">\n",
       "      <th>COUGHING</th>\n",
       "      <th>1</th>\n",
       "      <th>2</th>\n",
       "    </tr>\n",
       "    <tr>\n",
       "      <th>ALCOHOL CONSUMING</th>\n",
       "      <th></th>\n",
       "      <th></th>\n",
       "    </tr>\n",
       "  </thead>\n",
       "  <tbody>\n",
       "    <tr>\n",
       "      <th>1</th>\n",
       "      <td>1.498554</td>\n",
       "      <td>1.496135</td>\n",
       "    </tr>\n",
       "    <tr>\n",
       "      <th>2</th>\n",
       "      <td>1.501668</td>\n",
       "      <td>1.490021</td>\n",
       "    </tr>\n",
       "  </tbody>\n",
       "</table>\n",
       "</div>"
      ],
      "text/plain": [
       "COUGHING                  1         2\n",
       "ALCOHOL CONSUMING                    \n",
       "1                  1.498554  1.496135\n",
       "2                  1.501668  1.490021"
      ]
     },
     "execution_count": 51,
     "metadata": {},
     "output_type": "execute_result"
    }
   ],
   "source": [
    "result4=pd.pivot_table(data=Data, index=\"ALCOHOL CONSUMING\",columns=\"COUGHING\",values=\"LUNG_CANCER\")\n",
    "result4"
   ]
  },
  {
   "cell_type": "code",
   "execution_count": 52,
   "id": "4e36ee43",
   "metadata": {},
   "outputs": [
    {
     "data": {
      "text/plain": [
       "<AxesSubplot:xlabel='COUGHING', ylabel='ALCOHOL CONSUMING'>"
      ]
     },
     "execution_count": 52,
     "metadata": {},
     "output_type": "execute_result"
    },
    {
     "data": {
      "image/png": "[encoded data removed]",
      "text/plain": [
       "<Figure size 432x288 with 2 Axes>"
      ]
     },
     "metadata": {
      "needs_background": "light"
     },
     "output_type": "display_data"
    }
   ],
   "source": [
    "sns.heatmap(result4,  cmap=\"Greens\")"
   ]
  },
  {
   "cell_type": "code",
   "execution_count": 53,
   "id": "49a0df20",
   "metadata": {},
   "outputs": [
    {
     "name": "stderr",
     "output_type": "stream",
     "text": [
      "C:\\Users\\hp\\anaconda3\\lib\\site-packages\\seaborn\\_decorators.py:36: FutureWarning: Pass the following variables as keyword args: x, y. From version 0.12, the only valid positional argument will be `data`, and passing other arguments without an explicit keyword will result in an error or misinterpretation.\n",
      "  warnings.warn(\n"
     ]
    },
    {
     "data": {
      "text/plain": [
       "<AxesSubplot:xlabel='ANXIETY', ylabel='AGE'>"
      ]
     },
     "execution_count": 53,
     "metadata": {},
     "output_type": "execute_result"
    },
    {
     "data": {
      "image/png": "[encoded data removed]",
      "text/plain": [
       "<Figure size 432x288 with 1 Axes>"
      ]
     },
     "metadata": {
      "needs_background": "light"
     },
     "output_type": "display_data"
    }
   ],
   "source": [
    "sns.boxplot(Data['ANXIETY'], Data['AGE'], hue=Data['LUNG_CANCER'])"
   ]
  },
  {
   "cell_type": "markdown",
   "id": "de54c7f2",
   "metadata": {},
   "source": [
    "This shows that people with anxiety between age 50 to 60 have higher lung cancer rate."
   ]
  },
  {
   "cell_type": "code",
   "execution_count": 54,
   "id": "952225f6",
   "metadata": {},
   "outputs": [
    {
     "name": "stderr",
     "output_type": "stream",
     "text": [
      "C:\\Users\\hp\\anaconda3\\lib\\site-packages\\seaborn\\_decorators.py:36: FutureWarning: Pass the following variables as keyword args: x, y. From version 0.12, the only valid positional argument will be `data`, and passing other arguments without an explicit keyword will result in an error or misinterpretation.\n",
      "  warnings.warn(\n"
     ]
    },
    {
     "data": {
      "text/plain": [
       "<AxesSubplot:xlabel='GENDER', ylabel='AGE'>"
      ]
     },
     "execution_count": 54,
     "metadata": {},
     "output_type": "execute_result"
    },
    {
     "data": {
      "image/png": "[encoded data removed]",
      "text/plain": [
       "<Figure size 432x288 with 1 Axes>"
      ]
     },
     "metadata": {
      "needs_background": "light"
     },
     "output_type": "display_data"
    }
   ],
   "source": [
    "sns.boxplot(Data['GENDER'], Data['AGE'], hue=Data['LUNG_CANCER'])"
   ]
  },
  {
   "cell_type": "code",
   "execution_count": 55,
   "id": "f2dae3b9",
   "metadata": {},
   "outputs": [
    {
     "name": "stderr",
     "output_type": "stream",
     "text": [
      "C:\\Users\\hp\\anaconda3\\lib\\site-packages\\seaborn\\_decorators.py:36: FutureWarning: Pass the following variables as keyword args: x, y. From version 0.12, the only valid positional argument will be `data`, and passing other arguments without an explicit keyword will result in an error or misinterpretation.\n",
      "  warnings.warn(\n"
     ]
    },
    {
     "data": {
      "text/plain": [
       "<AxesSubplot:xlabel='SMOKING', ylabel='AGE'>"
      ]
     },
     "execution_count": 55,
     "metadata": {},
     "output_type": "execute_result"
    },
    {
     "data": {
      "image/png": "[encoded data removed]",
      "text/plain": [
       "<Figure size 432x288 with 1 Axes>"
      ]
     },
     "metadata": {
      "needs_background": "light"
     },
     "output_type": "display_data"
    }
   ],
   "source": [
    "sns.boxplot(Data['SMOKING'], Data['AGE'], hue=Data['LUNG_CANCER'])"
   ]
  },
  {
   "cell_type": "code",
   "execution_count": 56,
   "id": "838ce9a4",
   "metadata": {},
   "outputs": [
    {
     "name": "stderr",
     "output_type": "stream",
     "text": [
      "C:\\Users\\hp\\anaconda3\\lib\\site-packages\\seaborn\\_decorators.py:36: FutureWarning: Pass the following variables as keyword args: x, y. From version 0.12, the only valid positional argument will be `data`, and passing other arguments without an explicit keyword will result in an error or misinterpretation.\n",
      "  warnings.warn(\n"
     ]
    },
    {
     "data": {
      "text/plain": [
       "<AxesSubplot:xlabel='WHEEZING', ylabel='AGE'>"
      ]
     },
     "execution_count": 56,
     "metadata": {},
     "output_type": "execute_result"
    },
    {
     "data": {
      "image/png": "[encoded data removed]",
      "text/plain": [
       "<Figure size 432x288 with 1 Axes>"
      ]
     },
     "metadata": {
      "needs_background": "light"
     },
     "output_type": "display_data"
    }
   ],
   "source": [
    "sns.boxplot(Data['WHEEZING'], Data['AGE'], hue=Data['LUNG_CANCER'])"
   ]
  },
  {
   "cell_type": "markdown",
   "id": "aaec8424",
   "metadata": {},
   "source": [
    "This boxplot shows that  people who wheeze while breathing and have age between 50 to 60 have higher Lung Cancer Rate."
   ]
  },
  {
   "cell_type": "code",
   "execution_count": 57,
   "id": "ca1c4487",
   "metadata": {},
   "outputs": [
    {
     "data": {
      "text/html": [
       "<div>\n",
       "<style scoped>\n",
       "    .dataframe tbody tr th:only-of-type {\n",
       "        vertical-align: middle;\n",
       "    }\n",
       "\n",
       "    .dataframe tbody tr th {\n",
       "        vertical-align: top;\n",
       "    }\n",
       "\n",
       "    .dataframe thead th {\n",
       "        text-align: right;\n",
       "    }\n",
       "</style>\n",
       "<table border=\"1\" class=\"dataframe\">\n",
       "  <thead>\n",
       "    <tr style=\"text-align: right;\">\n",
       "      <th>SWALLOWING DIFFICULTY</th>\n",
       "      <th>1</th>\n",
       "      <th>2</th>\n",
       "    </tr>\n",
       "    <tr>\n",
       "      <th>ALCOHOL CONSUMING</th>\n",
       "      <th></th>\n",
       "      <th></th>\n",
       "    </tr>\n",
       "  </thead>\n",
       "  <tbody>\n",
       "    <tr>\n",
       "      <th>1</th>\n",
       "      <td>1.497918</td>\n",
       "      <td>1.496738</td>\n",
       "    </tr>\n",
       "    <tr>\n",
       "      <th>2</th>\n",
       "      <td>1.493258</td>\n",
       "      <td>1.498346</td>\n",
       "    </tr>\n",
       "  </tbody>\n",
       "</table>\n",
       "</div>"
      ],
      "text/plain": [
       "SWALLOWING DIFFICULTY         1         2\n",
       "ALCOHOL CONSUMING                        \n",
       "1                      1.497918  1.496738\n",
       "2                      1.493258  1.498346"
      ]
     },
     "execution_count": 57,
     "metadata": {},
     "output_type": "execute_result"
    }
   ],
   "source": [
    "result5=pd.pivot_table(data=Data, index=\"ALCOHOL CONSUMING\",columns=\"SWALLOWING DIFFICULTY\",values=\"LUNG_CANCER\")\n",
    "result5"
   ]
  },
  {
   "cell_type": "code",
   "execution_count": 58,
   "id": "0253cafd",
   "metadata": {},
   "outputs": [
    {
     "data": {
      "text/plain": [
       "<AxesSubplot:xlabel='SWALLOWING DIFFICULTY', ylabel='ALCOHOL CONSUMING'>"
      ]
     },
     "execution_count": 58,
     "metadata": {},
     "output_type": "execute_result"
    },
    {
     "data": {
      "image/png": "[encoded data removed]",
      "text/plain": [
       "<Figure size 432x288 with 2 Axes>"
      ]
     },
     "metadata": {
      "needs_background": "light"
     },
     "output_type": "display_data"
    }
   ],
   "source": [
    "sns.heatmap(result5, annot=True, cmap=\"RdYlGn\")"
   ]
  },
  {
   "cell_type": "markdown",
   "id": "6a0c3d03",
   "metadata": {},
   "source": [
    "People who consumes alcohol and have Swallowing Difficulty have higher cancer risk."
   ]
  },
  {
   "cell_type": "code",
   "execution_count": 59,
   "id": "08079dab",
   "metadata": {},
   "outputs": [
    {
     "data": {
      "text/html": [
       "<div>\n",
       "<style scoped>\n",
       "    .dataframe tbody tr th:only-of-type {\n",
       "        vertical-align: middle;\n",
       "    }\n",
       "\n",
       "    .dataframe tbody tr th {\n",
       "        vertical-align: top;\n",
       "    }\n",
       "\n",
       "    .dataframe thead th {\n",
       "        text-align: right;\n",
       "    }\n",
       "</style>\n",
       "<table border=\"1\" class=\"dataframe\">\n",
       "  <thead>\n",
       "    <tr style=\"text-align: right;\">\n",
       "      <th>CHEST PAIN</th>\n",
       "      <th>1</th>\n",
       "      <th>2</th>\n",
       "    </tr>\n",
       "    <tr>\n",
       "      <th>ALCOHOL CONSUMING</th>\n",
       "      <th></th>\n",
       "      <th></th>\n",
       "    </tr>\n",
       "  </thead>\n",
       "  <tbody>\n",
       "    <tr>\n",
       "      <th>1</th>\n",
       "      <td>1.492490</td>\n",
       "      <td>1.502109</td>\n",
       "    </tr>\n",
       "    <tr>\n",
       "      <th>2</th>\n",
       "      <td>1.496834</td>\n",
       "      <td>1.494776</td>\n",
       "    </tr>\n",
       "  </tbody>\n",
       "</table>\n",
       "</div>"
      ],
      "text/plain": [
       "CHEST PAIN                1         2\n",
       "ALCOHOL CONSUMING                    \n",
       "1                  1.492490  1.502109\n",
       "2                  1.496834  1.494776"
      ]
     },
     "execution_count": 59,
     "metadata": {},
     "output_type": "execute_result"
    }
   ],
   "source": [
    "result6=pd.pivot_table(data=Data, index=\"ALCOHOL CONSUMING\",columns=\"CHEST PAIN\",values=\"LUNG_CANCER\")\n",
    "result6"
   ]
  },
  {
   "cell_type": "code",
   "execution_count": 60,
   "id": "f4fd8431",
   "metadata": {},
   "outputs": [
    {
     "data": {
      "text/plain": [
       "<AxesSubplot:xlabel='CHEST PAIN', ylabel='ALCOHOL CONSUMING'>"
      ]
     },
     "execution_count": 60,
     "metadata": {},
     "output_type": "execute_result"
    },
    {
     "data": {
      "image/png": "[encoded data removed]",
      "text/plain": [
       "<Figure size 432x288 with 2 Axes>"
      ]
     },
     "metadata": {
      "needs_background": "light"
     },
     "output_type": "display_data"
    }
   ],
   "source": [
    "sns.heatmap(result6, annot=True, cmap=\"RdYlGn\")"
   ]
  },
  {
   "cell_type": "markdown",
   "id": "c87c5192",
   "metadata": {},
   "source": [
    "This shows that :-\n",
    "- People who consume Alcohol and have Chest Pain have higher Lung Cancer Rate.\n",
    "- People who don't consume alcohol and don't have chest pain have least rate of Lung Cancer."
   ]
  },
  {
   "cell_type": "code",
   "execution_count": 61,
   "id": "bdd4d29c",
   "metadata": {},
   "outputs": [
    {
     "data": {
      "text/html": [
       "<div>\n",
       "<style scoped>\n",
       "    .dataframe tbody tr th:only-of-type {\n",
       "        vertical-align: middle;\n",
       "    }\n",
       "\n",
       "    .dataframe tbody tr th {\n",
       "        vertical-align: top;\n",
       "    }\n",
       "\n",
       "    .dataframe thead th {\n",
       "        text-align: right;\n",
       "    }\n",
       "</style>\n",
       "<table border=\"1\" class=\"dataframe\">\n",
       "  <thead>\n",
       "    <tr style=\"text-align: right;\">\n",
       "      <th>SHORTNESS OF BREATH</th>\n",
       "      <th>1</th>\n",
       "      <th>2</th>\n",
       "    </tr>\n",
       "    <tr>\n",
       "      <th>SMOKING</th>\n",
       "      <th></th>\n",
       "      <th></th>\n",
       "    </tr>\n",
       "  </thead>\n",
       "  <tbody>\n",
       "    <tr>\n",
       "      <th>1</th>\n",
       "      <td>1.496774</td>\n",
       "      <td>1.498717</td>\n",
       "    </tr>\n",
       "    <tr>\n",
       "      <th>2</th>\n",
       "      <td>1.492735</td>\n",
       "      <td>1.498024</td>\n",
       "    </tr>\n",
       "  </tbody>\n",
       "</table>\n",
       "</div>"
      ],
      "text/plain": [
       "SHORTNESS OF BREATH         1         2\n",
       "SMOKING                                \n",
       "1                    1.496774  1.498717\n",
       "2                    1.492735  1.498024"
      ]
     },
     "execution_count": 61,
     "metadata": {},
     "output_type": "execute_result"
    }
   ],
   "source": [
    "result7=pd.pivot_table(data=Data, index=\"SMOKING\",columns=\"SHORTNESS OF BREATH\",values=\"LUNG_CANCER\")\n",
    "result7"
   ]
  },
  {
   "cell_type": "code",
   "execution_count": 62,
   "id": "46fa28df",
   "metadata": {},
   "outputs": [
    {
     "data": {
      "text/plain": [
       "<AxesSubplot:xlabel='SHORTNESS OF BREATH', ylabel='SMOKING'>"
      ]
     },
     "execution_count": 62,
     "metadata": {},
     "output_type": "execute_result"
    },
    {
     "data": {
      "image/png": "[encoded data removed]",
      "text/plain": [
       "<Figure size 432x288 with 2 Axes>"
      ]
     },
     "metadata": {
      "needs_background": "light"
     },
     "output_type": "display_data"
    }
   ],
   "source": [
    "sns.heatmap(result7,  cmap=\"Blues\")"
   ]
  },
  {
   "cell_type": "code",
   "execution_count": 63,
   "id": "73355998",
   "metadata": {},
   "outputs": [
    {
     "data": {
      "text/html": [
       "<div>\n",
       "<style scoped>\n",
       "    .dataframe tbody tr th:only-of-type {\n",
       "        vertical-align: middle;\n",
       "    }\n",
       "\n",
       "    .dataframe tbody tr th {\n",
       "        vertical-align: top;\n",
       "    }\n",
       "\n",
       "    .dataframe thead th {\n",
       "        text-align: right;\n",
       "    }\n",
       "</style>\n",
       "<table border=\"1\" class=\"dataframe\">\n",
       "  <thead>\n",
       "    <tr style=\"text-align: right;\">\n",
       "      <th>SHORTNESS OF BREATH</th>\n",
       "      <th>1</th>\n",
       "      <th>2</th>\n",
       "    </tr>\n",
       "    <tr>\n",
       "      <th>ALCOHOL CONSUMING</th>\n",
       "      <th></th>\n",
       "      <th></th>\n",
       "    </tr>\n",
       "  </thead>\n",
       "  <tbody>\n",
       "    <tr>\n",
       "      <th>1</th>\n",
       "      <td>1.495892</td>\n",
       "      <td>1.498759</td>\n",
       "    </tr>\n",
       "    <tr>\n",
       "      <th>2</th>\n",
       "      <td>1.493623</td>\n",
       "      <td>1.497979</td>\n",
       "    </tr>\n",
       "  </tbody>\n",
       "</table>\n",
       "</div>"
      ],
      "text/plain": [
       "SHORTNESS OF BREATH         1         2\n",
       "ALCOHOL CONSUMING                      \n",
       "1                    1.495892  1.498759\n",
       "2                    1.493623  1.497979"
      ]
     },
     "execution_count": 63,
     "metadata": {},
     "output_type": "execute_result"
    }
   ],
   "source": [
    "result8=pd.pivot_table(data=Data, index=\"ALCOHOL CONSUMING\",columns=\"SHORTNESS OF BREATH\",values=\"LUNG_CANCER\")\n",
    "result8"
   ]
  },
  {
   "cell_type": "code",
   "execution_count": 64,
   "id": "b288761b",
   "metadata": {},
   "outputs": [
    {
     "data": {
      "text/plain": [
       "<AxesSubplot:xlabel='SHORTNESS OF BREATH', ylabel='ALCOHOL CONSUMING'>"
      ]
     },
     "execution_count": 64,
     "metadata": {},
     "output_type": "execute_result"
    },
    {
     "data": {
      "image/png": "[encoded data removed]",
      "text/plain": [
       "<Figure size 432x288 with 2 Axes>"
      ]
     },
     "metadata": {
      "needs_background": "light"
     },
     "output_type": "display_data"
    }
   ],
   "source": [
    "sns.heatmap(result8,  cmap=\"Greens\")"
   ]
  },
  {
   "cell_type": "markdown",
   "id": "61283798",
   "metadata": {},
   "source": [
    "People who have shortness of breath, Lung Cancer Rate is high among those people. So, this symptom is highly related to lung cancer."
   ]
  },
  {
   "cell_type": "code",
   "execution_count": 65,
   "id": "84f738df",
   "metadata": {},
   "outputs": [
    {
     "data": {
      "text/html": [
       "<div>\n",
       "<style scoped>\n",
       "    .dataframe tbody tr th:only-of-type {\n",
       "        vertical-align: middle;\n",
       "    }\n",
       "\n",
       "    .dataframe tbody tr th {\n",
       "        vertical-align: top;\n",
       "    }\n",
       "\n",
       "    .dataframe thead th {\n",
       "        text-align: right;\n",
       "    }\n",
       "</style>\n",
       "<table border=\"1\" class=\"dataframe\">\n",
       "  <thead>\n",
       "    <tr style=\"text-align: right;\">\n",
       "      <th>SWALLOWING DIFFICULTY</th>\n",
       "      <th>1</th>\n",
       "      <th>2</th>\n",
       "    </tr>\n",
       "    <tr>\n",
       "      <th>CHEST PAIN</th>\n",
       "      <th></th>\n",
       "      <th></th>\n",
       "    </tr>\n",
       "  </thead>\n",
       "  <tbody>\n",
       "    <tr>\n",
       "      <th>1</th>\n",
       "      <td>1.498310</td>\n",
       "      <td>1.490999</td>\n",
       "    </tr>\n",
       "    <tr>\n",
       "      <th>2</th>\n",
       "      <td>1.492894</td>\n",
       "      <td>1.504018</td>\n",
       "    </tr>\n",
       "  </tbody>\n",
       "</table>\n",
       "</div>"
      ],
      "text/plain": [
       "SWALLOWING DIFFICULTY         1         2\n",
       "CHEST PAIN                               \n",
       "1                      1.498310  1.490999\n",
       "2                      1.492894  1.504018"
      ]
     },
     "execution_count": 65,
     "metadata": {},
     "output_type": "execute_result"
    }
   ],
   "source": [
    "result9=pd.pivot_table(data=Data, index=\"CHEST PAIN\",columns=\"SWALLOWING DIFFICULTY\",values=\"LUNG_CANCER\")\n",
    "result9"
   ]
  },
  {
   "cell_type": "code",
   "execution_count": 66,
   "id": "7bf6bb46",
   "metadata": {},
   "outputs": [
    {
     "data": {
      "text/plain": [
       "<AxesSubplot:xlabel='SWALLOWING DIFFICULTY', ylabel='CHEST PAIN'>"
      ]
     },
     "execution_count": 66,
     "metadata": {},
     "output_type": "execute_result"
    },
    {
     "data": {
      "image/png": "[encoded data removed]",
      "text/plain": [
       "<Figure size 432x288 with 2 Axes>"
      ]
     },
     "metadata": {
      "needs_background": "light"
     },
     "output_type": "display_data"
    }
   ],
   "source": [
    "sns.heatmap(result9,  cmap=\"BuPu\")"
   ]
  },
  {
   "cell_type": "markdown",
   "id": "589163b7",
   "metadata": {},
   "source": [
    "This shows that people who have swallowing difficulty as well as Chest Pain, Cancer Risk is very high in case of those people."
   ]
  },
  {
   "cell_type": "markdown",
   "id": "0e7d3a80",
   "metadata": {},
   "source": [
    "# OWN PREDICTIVE ANALYSIS"
   ]
  },
  {
   "cell_type": "markdown",
   "id": "247985f8",
   "metadata": {},
   "source": [
    "- People who are having age between 20 and 70 and among these age groups 35 to 55 age can have relatively high cancer risk. Among these people who are male can have more cancer risk.(Who have certain cancer symtoms.)"
   ]
  },
  {
   "cell_type": "markdown",
   "id": "dceccebb",
   "metadata": {},
   "source": [
    "- People who smoke , have chronic diseases and have chest pain thsese symptoms are highly related to lung cancer. So, it  can be predicted that people with these symptoms will have higher risk of lung cancer."
   ]
  },
  {
   "cell_type": "markdown",
   "id": "b11e4684",
   "metadata": {},
   "source": [
    "- People who smoke can have Chronic disease as well. So, eventually they will be having lung cancer risk. So, people with chronic disease are more likely to have lung cancer."
   ]
  },
  {
   "cell_type": "markdown",
   "id": "a169dd92",
   "metadata": {},
   "source": [
    "- Males can have more risk of lung cancer who have chronic disease."
   ]
  },
  {
   "cell_type": "markdown",
   "id": "a948e29f",
   "metadata": {},
   "source": [
    "- Chest pain can be a strong symptom of chronic disease as well as Lung Cancer."
   ]
  },
  {
   "cell_type": "markdown",
   "id": "f4be9a17",
   "metadata": {},
   "source": [
    "- Males who smoke can have higher chances of Lung Cancer than females who smoke."
   ]
  },
  {
   "cell_type": "markdown",
   "id": "d5a27600",
   "metadata": {},
   "source": [
    "- Smoking, Chest Pain, swallowing Difficulty, Shortness of Breath and chronic disease are some symptoms which high chances to cause lung cancer."
   ]
  },
  {
   "cell_type": "markdown",
   "id": "d69d646e",
   "metadata": {},
   "source": [
    "- These symptoms are related to each other, like smoking can cause chest pain , swallowing difficulty which can further cause chronic disease and Shortness of breath."
   ]
  },
  {
   "cell_type": "markdown",
   "id": "16a1dfb0",
   "metadata": {},
   "source": [
    "- This is how these symptoms impact Lung Cancer. So, people having these symptoms will be more likely to have Lung Cancer."
   ]
  }
 ],
 "metadata": {
  "kernelspec": {
   "display_name": "Python 3 (ipykernel)",
   "language": "python",
   "name": "python3"
  },
  "language_info": {
   "codemirror_mode": {
    "name": "ipython",
    "version": 3
   },
   "file_extension": ".py",
   "mimetype": "text/x-python",
   "name": "python",
   "nbconvert_exporter": "python",
   "pygments_lexer": "ipython3",
   "version": "3.9.7"
  }
 },
 "nbformat": 4,
 "nbformat_minor": 5
}
